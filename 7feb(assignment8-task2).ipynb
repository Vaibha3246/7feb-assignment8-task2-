{
 "cells": [
  {
   "cell_type": "code",
   "execution_count": null,
   "id": "55669a5a-4c8d-45e7-8a78-380e782042a5",
   "metadata": {},
   "outputs": [],
   "source": [
    "Q1. You are writing code for a company. The requirement of the company is that you create a python\n",
    "function that will check whether the password entered by the user is correct or not. The function should\n",
    "take the password as input and return the string “Valid Password” if the entered password follows the\n",
    "below-given password guidelines else it should return “Invalid Password”.\n",
    "Note: 1. The Password should contain at least two uppercase letters and at least two lowercase letters.\n",
    "2. The Password should contain at least a number and three special characters.\n",
    "3. The length of the password should be 10 characters long."
   ]
  },
  {
   "cell_type": "code",
   "execution_count": 2,
   "id": "7a77710c-54f0-410a-8bb2-763fb3a9924a",
   "metadata": {},
   "outputs": [
    {
     "name": "stdin",
     "output_type": "stream",
     "text": [
      "Create your new password :  b122600\n"
     ]
    },
    {
     "name": "stdout",
     "output_type": "stream",
     "text": [
      "Invalid Password\n"
     ]
    }
   ],
   "source": [
    "password = input(\"Create your new password : \")\n",
    "# password = \"OZWQQca514!@#\"\n",
    "def pass_verify(check):\n",
    "    upper_case = lower_case = numbers = special_char = ''\n",
    "    for i in password:\n",
    "        if 64<ord(i)<91:upper_case += i\n",
    "        elif 96<ord(i)<123:lower_case += i\n",
    "        elif 48<ord(i)<58:numbers += i\n",
    "        elif 32<ord(i)<48 or 58<ord(i)<65 or 91<ord(i)<97 or ord(i)>122:special_char +=i\n",
    "        else:pass\n",
    "    if len(upper_case) >= 2 and len(lower_case) >= 2 and len(numbers) >= 1 and len(special_char) >=3 and len(password) >= 10:\n",
    "        print('Valid Password')\n",
    "    else:\n",
    "        print('Invalid Password')\n",
    "pass_verify(password)\n",
    "# len(password)"
   ]
  },
  {
   "cell_type": "code",
   "execution_count": null,
   "id": "af477aa6-6300-4ec2-ae1f-80b6c35248ce",
   "metadata": {},
   "outputs": [],
   "source": [
    "Q2. Solve the below-given questions using at least one of the following:\n",
    "\n",
    "Lambda function\n",
    "Filter function\n",
    "Map function\n",
    "List Comprehension\n",
    "Check if the string starts with a particular letter.\n",
    "Check if the string is numeric.\n",
    ".Sort a list of tuples having fruit names and their quantity. [ (\"mango\",99), (\"orange\",80), (\"grapes\", 1000)]\n",
    ".Find the squares of numbers from 1 to 10.\n",
    "Find the cube root of numbers from 1 to 10.\n",
    "Check if a given number is even.\n",
    "Filter odd numbers from the given list. [1,2,3,4,5,6,7,8,9,10]\n",
    "Sort a list of integers into positive and negative integers lists. [1,2,3,4,5,6,-1,-2,-3,-4,-5,0]"
   ]
  },
  {
   "cell_type": "code",
   "execution_count": 3,
   "id": "0c12627c-8f18-43f5-9a2b-c6494d465736",
   "metadata": {},
   "outputs": [
    {
     "name": "stdin",
     "output_type": "stream",
     "text": [
      "Enter a word start form 'a' :  apple\n"
     ]
    },
    {
     "data": {
      "text/plain": [
       "True"
      ]
     },
     "execution_count": 3,
     "metadata": {},
     "output_type": "execute_result"
    }
   ],
   "source": [
    "# 1. Check if the string starts with a particular letter.\n",
    "# Check if the string starts with a particular letter.By using list comprehension\n",
    "string = input(\"Enter a word start form 'a' : \")\n",
    "# string = 'gthuid'\n",
    "obj = [True if string.startswith('a') else False for i in string]\n",
    "obj[0]"
   ]
  },
  {
   "cell_type": "code",
   "execution_count": 4,
   "id": "c5383b9d-e196-4f08-af0f-fe9c85f944d7",
   "metadata": {},
   "outputs": [
    {
     "name": "stdin",
     "output_type": "stream",
     "text": [
      "Enter a word start form 'a' :  lkdg\n"
     ]
    },
    {
     "data": {
      "text/plain": [
       "False"
      ]
     },
     "execution_count": 4,
     "metadata": {},
     "output_type": "execute_result"
    }
   ],
   "source": [
    "# Check if the string starts with a particular letter. By using lambda function\n",
    "string = input(\"Enter a word start form 'a' : \")\n",
    "# string = 'gthuid'\n",
    "obj = lambda s : s.startswith('a')\n",
    "obj(string)"
   ]
  },
  {
   "cell_type": "code",
   "execution_count": 5,
   "id": "b67ad4fd-6697-4764-bf2c-8d980f1d1cde",
   "metadata": {},
   "outputs": [
    {
     "name": "stdin",
     "output_type": "stream",
     "text": [
      "Enter a numeric key :  567888888\n"
     ]
    },
    {
     "data": {
      "text/plain": [
       "True"
      ]
     },
     "execution_count": 5,
     "metadata": {},
     "output_type": "execute_result"
    }
   ],
   "source": [
    "# 2. Check if the string is numeric.\n",
    "# Check if the string is numeric. By using list comprehension\n",
    "string = input(\"Enter a numeric key : \")\n",
    "# string = '34'\n",
    "obj = [True if string.isnumeric() else False for i in string]\n",
    "obj[0]"
   ]
  },
  {
   "cell_type": "code",
   "execution_count": 6,
   "id": "babac7eb-6263-470e-958d-0be8a51fdc2a",
   "metadata": {},
   "outputs": [
    {
     "data": {
      "text/plain": [
       "True"
      ]
     },
     "execution_count": 6,
     "metadata": {},
     "output_type": "execute_result"
    }
   ],
   "source": [
    "# Check if the string is numeric.By using lambda function\n",
    "# string = input(\"Enter a numeric key : \")\n",
    "string = '456'\n",
    "obj = lambda num : num.isnumeric()\n",
    "obj(string)\n"
   ]
  },
  {
   "cell_type": "code",
   "execution_count": 7,
   "id": "35c6efab-215b-480e-8267-335eecfeaa5b",
   "metadata": {},
   "outputs": [
    {
     "name": "stdout",
     "output_type": "stream",
     "text": [
      "[('grapes', 1000), ('mango', 99), ('orange', 80)]\n"
     ]
    }
   ],
   "source": [
    "# 3. .Sort a list of tuples having fruit names and their quantity. [ (\"mango\",99), (\"orange\",80), (\"grapes\", 1000)]\n",
    "# .Sort a list of tuples having fruit names and their quantity. [ (\"mango\",99), (\"orange\",80), (\"grapes\", 1000)]\n",
    "List = [ (\"mango\",99), (\"orange\",80), (\"grapes\", 1000)]\n",
    "print(sorted(List))\n",
    "# print(sorted(List, reverse = True))"
   ]
  },
  {
   "cell_type": "code",
   "execution_count": 8,
   "id": "d8a8ff4a-2b49-4a6b-bb10-d5716352d0cd",
   "metadata": {},
   "outputs": [
    {
     "data": {
      "text/plain": [
       "[1, 4, 9, 16, 25, 36, 49, 64, 81, 100]"
      ]
     },
     "execution_count": 8,
     "metadata": {},
     "output_type": "execute_result"
    }
   ],
   "source": [
    "# 4. .Find the squares of numbers from 1 to 10.\n",
    "# .Find the squares of numbers from 1 to 10.\n",
    "square = [i*i for i in range(1,11)]\n",
    "list(square)"
   ]
  },
  {
   "cell_type": "code",
   "execution_count": 9,
   "id": "c9957cad-5d01-4c29-ac5f-12b4e1b7e077",
   "metadata": {},
   "outputs": [
    {
     "data": {
      "text/plain": [
       "[1, 8, 27, 64, 125, 216, 343, 512, 729, 1000]"
      ]
     },
     "execution_count": 9,
     "metadata": {},
     "output_type": "execute_result"
    }
   ],
   "source": [
    "# 5. Find the cube root of numbers from 1 to 10.\n",
    "# Find the cube root of numbers from 1 to 10.\n",
    "cube = [i**3 for i in range(1,11)]\n",
    "list(cube)"
   ]
  },
  {
   "cell_type": "code",
   "execution_count": 10,
   "id": "d40cccbc-07ea-49dc-8b27-4ca6e709df01",
   "metadata": {},
   "outputs": [
    {
     "name": "stdin",
     "output_type": "stream",
     "text": [
      "Enter a number :  24\n"
     ]
    },
    {
     "data": {
      "text/plain": [
       "True"
      ]
     },
     "execution_count": 10,
     "metadata": {},
     "output_type": "execute_result"
    }
   ],
   "source": [
    "# 6. Check if a given number is even.\n",
    "# Check if a given number is even.\n",
    "num = int(input('Enter a number : '))\n",
    "# num = 24\n",
    "even = lambda x : x%2 == 0 \n",
    "even(num)"
   ]
  },
  {
   "cell_type": "code",
   "execution_count": 11,
   "id": "c08109a6-7d07-473b-ab72-db1c5a997568",
   "metadata": {},
   "outputs": [
    {
     "data": {
      "text/plain": [
       "<filter at 0x7f79a0e99f60>"
      ]
     },
     "execution_count": 11,
     "metadata": {},
     "output_type": "execute_result"
    }
   ],
   "source": [
    "# 7. Filter odd numbers from the given list. [1,2,3,4,5,6,7,8,9,10]\n",
    "# Filter odd numbers from the given list. By using filter() function\n",
    "List = [1,2,3,4,5,6,7,8,9,10]\n",
    "odd_list = []\n",
    "def odd(a):\n",
    "    if a%2!=0:\n",
    "        odd_list.append(a)\n",
    "filter(odd,List)"
   ]
  },
  {
   "cell_type": "code",
   "execution_count": 12,
   "id": "531d6b6d-0d84-43a1-9b61-a7fc530ae05c",
   "metadata": {},
   "outputs": [
    {
     "name": "stdout",
     "output_type": "stream",
     "text": [
      "[1, 3, 5, 7, 9]\n"
     ]
    }
   ],
   "source": [
    "list(filter(odd,List))\n",
    "print(odd_list)"
   ]
  },
  {
   "cell_type": "code",
   "execution_count": 13,
   "id": "507200ae-7856-4191-8e2e-32af9cf7cb7d",
   "metadata": {},
   "outputs": [
    {
     "data": {
      "text/plain": [
       "[1, 3, 5, 7, 9]"
      ]
     },
     "execution_count": 13,
     "metadata": {},
     "output_type": "execute_result"
    }
   ],
   "source": [
    "# Filter odd numbers from the given list. By using lambda function\n",
    "List = [1,2,3,4,5,6,7,8,9,10]\n",
    "List = [i for i in List if i%2 != 0]\n",
    "List"
   ]
  },
  {
   "cell_type": "code",
   "execution_count": null,
   "id": "0014e5f8-d85c-462c-ad3c-80dc04844e97",
   "metadata": {},
   "outputs": [],
   "source": []
  }
 ],
 "metadata": {
  "kernelspec": {
   "display_name": "Python 3 (ipykernel)",
   "language": "python",
   "name": "python3"
  },
  "language_info": {
   "codemirror_mode": {
    "name": "ipython",
    "version": 3
   },
   "file_extension": ".py",
   "mimetype": "text/x-python",
   "name": "python",
   "nbconvert_exporter": "python",
   "pygments_lexer": "ipython3",
   "version": "3.10.6"
  }
 },
 "nbformat": 4,
 "nbformat_minor": 5
}
